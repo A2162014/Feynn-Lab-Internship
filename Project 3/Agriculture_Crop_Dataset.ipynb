{
 "metadata": {
  "colab": {
   "provenance": []
  },
  "kernelspec": {
   "name": "python3",
   "display_name": "Python 3",
   "language": "python"
  },
  "language_info": {
   "name": "python",
   "version": "3.10.12",
   "mimetype": "text/x-python",
   "codemirror_mode": {
    "name": "ipython",
    "version": 3
   },
   "pygments_lexer": "ipython3",
   "nbconvert_exporter": "python",
   "file_extension": ".py"
  }
 },
 "nbformat_minor": 4,
 "nbformat": 4,
 "cells": [
  {
   "cell_type": "code",
   "source": [
    "!pip install gdown"
   ],
   "metadata": {
    "execution": {
     "iopub.status.busy": "2023-07-11T13:20:11.423954Z",
     "iopub.execute_input": "2023-07-11T13:20:11.424605Z",
     "iopub.status.idle": "2023-07-11T13:20:24.242985Z",
     "shell.execute_reply.started": "2023-07-11T13:20:11.424553Z",
     "shell.execute_reply": "2023-07-11T13:20:24.241556Z"
    },
    "trusted": true
   },
   "execution_count": 1,
   "outputs": [
    {
     "name": "stdout",
     "text": "Collecting gdown\n  Downloading gdown-4.7.1-py3-none-any.whl (15 kB)\nRequirement already satisfied: filelock in /opt/conda/lib/python3.10/site-packages (from gdown) (3.12.2)\nRequirement already satisfied: requests[socks] in /opt/conda/lib/python3.10/site-packages (from gdown) (2.31.0)\nRequirement already satisfied: six in /opt/conda/lib/python3.10/site-packages (from gdown) (1.16.0)\nRequirement already satisfied: tqdm in /opt/conda/lib/python3.10/site-packages (from gdown) (4.65.0)\nRequirement already satisfied: beautifulsoup4 in /opt/conda/lib/python3.10/site-packages (from gdown) (4.12.2)\nRequirement already satisfied: soupsieve>1.2 in /opt/conda/lib/python3.10/site-packages (from beautifulsoup4->gdown) (2.3.2.post1)\nRequirement already satisfied: charset-normalizer<4,>=2 in /opt/conda/lib/python3.10/site-packages (from requests[socks]->gdown) (3.1.0)\nRequirement already satisfied: idna<4,>=2.5 in /opt/conda/lib/python3.10/site-packages (from requests[socks]->gdown) (3.4)\nRequirement already satisfied: urllib3<3,>=1.21.1 in /opt/conda/lib/python3.10/site-packages (from requests[socks]->gdown) (1.26.15)\nRequirement already satisfied: certifi>=2017.4.17 in /opt/conda/lib/python3.10/site-packages (from requests[socks]->gdown) (2023.5.7)\nRequirement already satisfied: PySocks!=1.5.7,>=1.5.6 in /opt/conda/lib/python3.10/site-packages (from requests[socks]->gdown) (1.7.1)\nInstalling collected packages: gdown\nSuccessfully installed gdown-4.7.1\n",
     "output_type": "stream"
    }
   ]
  },
  {
   "cell_type": "code",
   "source": [
    "import gdown\n",
    "import zipfile"
   ],
   "metadata": {
    "collapsed": false,
    "is_executing": true,
    "jupyter": {
     "outputs_hidden": false
    },
    "execution": {
     "iopub.status.busy": "2023-07-11T13:20:24.245592Z",
     "iopub.execute_input": "2023-07-11T13:20:24.247116Z",
     "iopub.status.idle": "2023-07-11T13:20:24.465140Z",
     "shell.execute_reply.started": "2023-07-11T13:20:24.247059Z",
     "shell.execute_reply": "2023-07-11T13:20:24.464015Z"
    },
    "trusted": true
   },
   "execution_count": 2,
   "outputs": []
  },
  {
   "cell_type": "code",
   "source": [
    "def download_and_extract(url, output, extract_dir):\n",
    "    try:\n",
    "        gdown.download(url, output, quiet=True)\n",
    "        with zipfile.ZipFile(output, 'r') as zip_ref:\n",
    "            zip_ref.extractall(extract_dir)\n",
    "        print(\"Download and extraction completed successfully.\")\n",
    "    except Exception as e:\n",
    "        print(\"An error occurred during download and extraction:\", str(e))"
   ],
   "metadata": {
    "collapsed": false,
    "jupyter": {
     "outputs_hidden": false
    },
    "execution": {
     "iopub.status.busy": "2023-07-11T13:20:24.466697Z",
     "iopub.execute_input": "2023-07-11T13:20:24.467595Z",
     "iopub.status.idle": "2023-07-11T13:20:24.473733Z",
     "shell.execute_reply.started": "2023-07-11T13:20:24.467556Z",
     "shell.execute_reply": "2023-07-11T13:20:24.472534Z"
    },
    "trusted": true
   },
   "execution_count": 3,
   "outputs": []
  },
  {
   "cell_type": "code",
   "source": [
    "url = 'https://drive.google.com/uc?id=1l9sYu1jnRvFwTXte77mGew0fvopKYY3n'\n",
    "output = '/kaggle/working/dataset.zip'\n",
    "extract_dir = 'extracted_dataset'"
   ],
   "metadata": {
    "collapsed": false,
    "jupyter": {
     "outputs_hidden": false
    },
    "execution": {
     "iopub.status.busy": "2023-07-11T13:20:24.476130Z",
     "iopub.execute_input": "2023-07-11T13:20:24.477136Z",
     "iopub.status.idle": "2023-07-11T13:20:24.488695Z",
     "shell.execute_reply.started": "2023-07-11T13:20:24.477098Z",
     "shell.execute_reply": "2023-07-11T13:20:24.487389Z"
    },
    "trusted": true
   },
   "execution_count": 4,
   "outputs": []
  },
  {
   "cell_type": "code",
   "source": [
    "download_and_extract(url, output, extract_dir)"
   ],
   "metadata": {
    "collapsed": false,
    "jupyter": {
     "outputs_hidden": false
    },
    "execution": {
     "iopub.status.busy": "2023-07-11T13:20:24.490216Z",
     "iopub.execute_input": "2023-07-11T13:20:24.490675Z",
     "iopub.status.idle": "2023-07-11T13:21:09.804611Z",
     "shell.execute_reply.started": "2023-07-11T13:20:24.490611Z",
     "shell.execute_reply": "2023-07-11T13:21:09.803438Z"
    },
    "trusted": true
   },
   "execution_count": 5,
   "outputs": [
    {
     "name": "stdout",
     "text": "Download and extraction completed successfully.\n",
     "output_type": "stream"
    }
   ]
  }
 ]
}
